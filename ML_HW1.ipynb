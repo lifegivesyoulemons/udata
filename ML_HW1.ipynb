{
 "cells": [
  {
   "cell_type": "markdown",
   "metadata": {},
   "source": [
    "# Import related libs"
   ]
  },
  {
   "cell_type": "code",
   "execution_count": 1,
   "metadata": {},
   "outputs": [],
   "source": [
    "import pandas as pd\n",
    "import numpy as np\n",
    "from sklearn import preprocessing\n",
    "import matplotlib.pyplot as plt\n",
    "from sklearn.decomposition import PCA\n",
    "from sklearn.linear_model import LinearRegression\n",
    "from sklearn.model_selection import train_test_split\n",
    "from sklearn.model_selection import cross_val_score\n",
    "import mymodule as mm"
   ]
  },
  {
   "cell_type": "code",
   "execution_count": 2,
   "metadata": {},
   "outputs": [],
   "source": [
    "# read the dataset\n",
    "#source: https://www.kaggle.com/gsutters/the-human-freedom-index#hfi_cc_2018.csv\n",
    "df = pd.read_excel(\"https://github.com/lifegivesyoulemons/udata/blob/master/SuperStoreUS_2015.xlsx?raw=true\", sheet_name = 'Orders', header=0)\n",
    "df = df.drop(columns=['Row ID', 'Postal Code', 'Order Date', 'Ship Date', 'Order ID', 'Product Name', 'Customer ID', 'Customer Name'])"
   ]
  },
  {
   "cell_type": "markdown",
   "metadata": {},
   "source": [
    "# Explore data"
   ]
  },
  {
   "cell_type": "code",
   "execution_count": 3,
   "metadata": {},
   "outputs": [
    {
     "data": {
      "text/html": [
       "<div>\n",
       "<style scoped>\n",
       "    .dataframe tbody tr th:only-of-type {\n",
       "        vertical-align: middle;\n",
       "    }\n",
       "\n",
       "    .dataframe tbody tr th {\n",
       "        vertical-align: top;\n",
       "    }\n",
       "\n",
       "    .dataframe thead th {\n",
       "        text-align: right;\n",
       "    }\n",
       "</style>\n",
       "<table border=\"1\" class=\"dataframe\">\n",
       "  <thead>\n",
       "    <tr style=\"text-align: right;\">\n",
       "      <th></th>\n",
       "      <th>Order Priority</th>\n",
       "      <th>Discount</th>\n",
       "      <th>Unit Price</th>\n",
       "      <th>Shipping Cost</th>\n",
       "      <th>Ship Mode</th>\n",
       "      <th>Customer Segment</th>\n",
       "      <th>Product Category</th>\n",
       "      <th>Product Sub-Category</th>\n",
       "      <th>Product Container</th>\n",
       "      <th>Product Base Margin</th>\n",
       "      <th>Country</th>\n",
       "      <th>Region</th>\n",
       "      <th>State or Province</th>\n",
       "      <th>City</th>\n",
       "      <th>Profit</th>\n",
       "      <th>Quantity ordered new</th>\n",
       "      <th>Sales</th>\n",
       "    </tr>\n",
       "  </thead>\n",
       "  <tbody>\n",
       "    <tr>\n",
       "      <th>50</th>\n",
       "      <td>High</td>\n",
       "      <td>0.07</td>\n",
       "      <td>8.34</td>\n",
       "      <td>1.43</td>\n",
       "      <td>Regular Air</td>\n",
       "      <td>Home Office</td>\n",
       "      <td>Office Supplies</td>\n",
       "      <td>Paper</td>\n",
       "      <td>Wrap Bag</td>\n",
       "      <td>0.35</td>\n",
       "      <td>United States</td>\n",
       "      <td>South</td>\n",
       "      <td>Louisiana</td>\n",
       "      <td>Terrytown</td>\n",
       "      <td>-190.6800</td>\n",
       "      <td>16.0</td>\n",
       "      <td>132.08</td>\n",
       "    </tr>\n",
       "    <tr>\n",
       "      <th>51</th>\n",
       "      <td>High</td>\n",
       "      <td>0.09</td>\n",
       "      <td>4.98</td>\n",
       "      <td>6.07</td>\n",
       "      <td>Regular Air</td>\n",
       "      <td>Home Office</td>\n",
       "      <td>Office Supplies</td>\n",
       "      <td>Paper</td>\n",
       "      <td>Small Box</td>\n",
       "      <td>0.36</td>\n",
       "      <td>United States</td>\n",
       "      <td>South</td>\n",
       "      <td>Louisiana</td>\n",
       "      <td>Terrytown</td>\n",
       "      <td>325.3980</td>\n",
       "      <td>9.0</td>\n",
       "      <td>45.34</td>\n",
       "    </tr>\n",
       "    <tr>\n",
       "      <th>52</th>\n",
       "      <td>Medium</td>\n",
       "      <td>0.04</td>\n",
       "      <td>12.98</td>\n",
       "      <td>3.14</td>\n",
       "      <td>Express Air</td>\n",
       "      <td>Corporate</td>\n",
       "      <td>Office Supplies</td>\n",
       "      <td>Scissors, Rulers and Trimmers</td>\n",
       "      <td>Small Pack</td>\n",
       "      <td>0.60</td>\n",
       "      <td>United States</td>\n",
       "      <td>South</td>\n",
       "      <td>Louisiana</td>\n",
       "      <td>Terrytown</td>\n",
       "      <td>22.8180</td>\n",
       "      <td>16.0</td>\n",
       "      <td>216.04</td>\n",
       "    </tr>\n",
       "    <tr>\n",
       "      <th>53</th>\n",
       "      <td>Not Specified</td>\n",
       "      <td>0.04</td>\n",
       "      <td>160.98</td>\n",
       "      <td>30.00</td>\n",
       "      <td>Delivery Truck</td>\n",
       "      <td>Home Office</td>\n",
       "      <td>Furniture</td>\n",
       "      <td>Chairs &amp; Chairmats</td>\n",
       "      <td>Jumbo Drum</td>\n",
       "      <td>0.62</td>\n",
       "      <td>United States</td>\n",
       "      <td>Central</td>\n",
       "      <td>Illinois</td>\n",
       "      <td>Chicago</td>\n",
       "      <td>116.1000</td>\n",
       "      <td>37.0</td>\n",
       "      <td>6276.34</td>\n",
       "    </tr>\n",
       "    <tr>\n",
       "      <th>54</th>\n",
       "      <td>Not Specified</td>\n",
       "      <td>0.01</td>\n",
       "      <td>17.98</td>\n",
       "      <td>4.00</td>\n",
       "      <td>Regular Air</td>\n",
       "      <td>Home Office</td>\n",
       "      <td>Technology</td>\n",
       "      <td>Computer Peripherals</td>\n",
       "      <td>Small Box</td>\n",
       "      <td>0.79</td>\n",
       "      <td>United States</td>\n",
       "      <td>Central</td>\n",
       "      <td>Illinois</td>\n",
       "      <td>Chicago</td>\n",
       "      <td>-87.9600</td>\n",
       "      <td>146.0</td>\n",
       "      <td>2664.40</td>\n",
       "    </tr>\n",
       "    <tr>\n",
       "      <th>55</th>\n",
       "      <td>Not Specified</td>\n",
       "      <td>0.04</td>\n",
       "      <td>160.98</td>\n",
       "      <td>30.00</td>\n",
       "      <td>Delivery Truck</td>\n",
       "      <td>Home Office</td>\n",
       "      <td>Furniture</td>\n",
       "      <td>Chairs &amp; Chairmats</td>\n",
       "      <td>Jumbo Drum</td>\n",
       "      <td>0.62</td>\n",
       "      <td>United States</td>\n",
       "      <td>Central</td>\n",
       "      <td>Kansas</td>\n",
       "      <td>Manhattan</td>\n",
       "      <td>255.4200</td>\n",
       "      <td>9.0</td>\n",
       "      <td>1526.68</td>\n",
       "    </tr>\n",
       "    <tr>\n",
       "      <th>56</th>\n",
       "      <td>Not Specified</td>\n",
       "      <td>0.06</td>\n",
       "      <td>115.99</td>\n",
       "      <td>8.99</td>\n",
       "      <td>Regular Air</td>\n",
       "      <td>Home Office</td>\n",
       "      <td>Technology</td>\n",
       "      <td>Telephones and Communication</td>\n",
       "      <td>Small Box</td>\n",
       "      <td>0.58</td>\n",
       "      <td>United States</td>\n",
       "      <td>Central</td>\n",
       "      <td>Kansas</td>\n",
       "      <td>Manhattan</td>\n",
       "      <td>685.6146</td>\n",
       "      <td>20.0</td>\n",
       "      <td>1952.56</td>\n",
       "    </tr>\n",
       "    <tr>\n",
       "      <th>57</th>\n",
       "      <td>Medium</td>\n",
       "      <td>0.10</td>\n",
       "      <td>19.98</td>\n",
       "      <td>4.00</td>\n",
       "      <td>Regular Air</td>\n",
       "      <td>Consumer</td>\n",
       "      <td>Technology</td>\n",
       "      <td>Computer Peripherals</td>\n",
       "      <td>Small Box</td>\n",
       "      <td>0.68</td>\n",
       "      <td>United States</td>\n",
       "      <td>East</td>\n",
       "      <td>Maine</td>\n",
       "      <td>Biddeford</td>\n",
       "      <td>-16.2000</td>\n",
       "      <td>16.0</td>\n",
       "      <td>303.59</td>\n",
       "    </tr>\n",
       "    <tr>\n",
       "      <th>58</th>\n",
       "      <td>Medium</td>\n",
       "      <td>0.04</td>\n",
       "      <td>300.98</td>\n",
       "      <td>54.92</td>\n",
       "      <td>Delivery Truck</td>\n",
       "      <td>Consumer</td>\n",
       "      <td>Furniture</td>\n",
       "      <td>Bookcases</td>\n",
       "      <td>Jumbo Box</td>\n",
       "      <td>0.55</td>\n",
       "      <td>United States</td>\n",
       "      <td>East</td>\n",
       "      <td>Massachusetts</td>\n",
       "      <td>Boston</td>\n",
       "      <td>2023.7500</td>\n",
       "      <td>31.0</td>\n",
       "      <td>9459.94</td>\n",
       "    </tr>\n",
       "    <tr>\n",
       "      <th>59</th>\n",
       "      <td>Medium</td>\n",
       "      <td>0.10</td>\n",
       "      <td>19.98</td>\n",
       "      <td>4.00</td>\n",
       "      <td>Regular Air</td>\n",
       "      <td>Consumer</td>\n",
       "      <td>Technology</td>\n",
       "      <td>Computer Peripherals</td>\n",
       "      <td>Small Box</td>\n",
       "      <td>0.68</td>\n",
       "      <td>United States</td>\n",
       "      <td>East</td>\n",
       "      <td>Massachusetts</td>\n",
       "      <td>Boston</td>\n",
       "      <td>-20.2500</td>\n",
       "      <td>65.0</td>\n",
       "      <td>1233.32</td>\n",
       "    </tr>\n",
       "  </tbody>\n",
       "</table>\n",
       "</div>"
      ],
      "text/plain": [
       "   Order Priority  Discount  Unit Price  Shipping Cost       Ship Mode  \\\n",
       "50           High      0.07        8.34           1.43     Regular Air   \n",
       "51           High      0.09        4.98           6.07     Regular Air   \n",
       "52         Medium      0.04       12.98           3.14     Express Air   \n",
       "53  Not Specified      0.04      160.98          30.00  Delivery Truck   \n",
       "54  Not Specified      0.01       17.98           4.00     Regular Air   \n",
       "55  Not Specified      0.04      160.98          30.00  Delivery Truck   \n",
       "56  Not Specified      0.06      115.99           8.99     Regular Air   \n",
       "57         Medium      0.10       19.98           4.00     Regular Air   \n",
       "58         Medium      0.04      300.98          54.92  Delivery Truck   \n",
       "59         Medium      0.10       19.98           4.00     Regular Air   \n",
       "\n",
       "   Customer Segment Product Category           Product Sub-Category  \\\n",
       "50      Home Office  Office Supplies                          Paper   \n",
       "51      Home Office  Office Supplies                          Paper   \n",
       "52        Corporate  Office Supplies  Scissors, Rulers and Trimmers   \n",
       "53      Home Office        Furniture             Chairs & Chairmats   \n",
       "54      Home Office       Technology           Computer Peripherals   \n",
       "55      Home Office        Furniture             Chairs & Chairmats   \n",
       "56      Home Office       Technology   Telephones and Communication   \n",
       "57         Consumer       Technology           Computer Peripherals   \n",
       "58         Consumer        Furniture                      Bookcases   \n",
       "59         Consumer       Technology           Computer Peripherals   \n",
       "\n",
       "   Product Container  Product Base Margin        Country   Region  \\\n",
       "50          Wrap Bag                 0.35  United States    South   \n",
       "51         Small Box                 0.36  United States    South   \n",
       "52        Small Pack                 0.60  United States    South   \n",
       "53        Jumbo Drum                 0.62  United States  Central   \n",
       "54         Small Box                 0.79  United States  Central   \n",
       "55        Jumbo Drum                 0.62  United States  Central   \n",
       "56         Small Box                 0.58  United States  Central   \n",
       "57         Small Box                 0.68  United States     East   \n",
       "58         Jumbo Box                 0.55  United States     East   \n",
       "59         Small Box                 0.68  United States     East   \n",
       "\n",
       "   State or Province       City     Profit  Quantity ordered new    Sales  \n",
       "50         Louisiana  Terrytown  -190.6800                  16.0   132.08  \n",
       "51         Louisiana  Terrytown   325.3980                   9.0    45.34  \n",
       "52         Louisiana  Terrytown    22.8180                  16.0   216.04  \n",
       "53          Illinois    Chicago   116.1000                  37.0  6276.34  \n",
       "54          Illinois    Chicago   -87.9600                 146.0  2664.40  \n",
       "55            Kansas  Manhattan   255.4200                   9.0  1526.68  \n",
       "56            Kansas  Manhattan   685.6146                  20.0  1952.56  \n",
       "57             Maine  Biddeford   -16.2000                  16.0   303.59  \n",
       "58     Massachusetts     Boston  2023.7500                  31.0  9459.94  \n",
       "59     Massachusetts     Boston   -20.2500                  65.0  1233.32  "
      ]
     },
     "execution_count": 3,
     "metadata": {},
     "output_type": "execute_result"
    }
   ],
   "source": [
    "df.iloc[50:60]"
   ]
  },
  {
   "cell_type": "code",
   "execution_count": 4,
   "metadata": {},
   "outputs": [
    {
     "name": "stdout",
     "output_type": "stream",
     "text": [
      "<class 'pandas.core.frame.DataFrame'>\n",
      "RangeIndex: 1952 entries, 0 to 1951\n",
      "Data columns (total 17 columns):\n",
      "Order Priority          1952 non-null object\n",
      "Discount                1945 non-null float64\n",
      "Unit Price              1944 non-null float64\n",
      "Shipping Cost           1946 non-null float64\n",
      "Ship Mode               1947 non-null object\n",
      "Customer Segment        1945 non-null object\n",
      "Product Category        1951 non-null object\n",
      "Product Sub-Category    1952 non-null object\n",
      "Product Container       1941 non-null object\n",
      "Product Base Margin     1936 non-null float64\n",
      "Country                 1952 non-null object\n",
      "Region                  1952 non-null object\n",
      "State or Province       1952 non-null object\n",
      "City                    1952 non-null object\n",
      "Profit                  1945 non-null float64\n",
      "Quantity ordered new    1925 non-null float64\n",
      "Sales                   1936 non-null float64\n",
      "dtypes: float64(7), object(10)\n",
      "memory usage: 259.3+ KB\n"
     ]
    }
   ],
   "source": [
    "#dataframe info\n",
    "df.info()"
   ]
  },
  {
   "cell_type": "code",
   "execution_count": 5,
   "metadata": {},
   "outputs": [
    {
     "data": {
      "text/html": [
       "<div>\n",
       "<style scoped>\n",
       "    .dataframe tbody tr th:only-of-type {\n",
       "        vertical-align: middle;\n",
       "    }\n",
       "\n",
       "    .dataframe tbody tr th {\n",
       "        vertical-align: top;\n",
       "    }\n",
       "\n",
       "    .dataframe thead th {\n",
       "        text-align: right;\n",
       "    }\n",
       "</style>\n",
       "<table border=\"1\" class=\"dataframe\">\n",
       "  <thead>\n",
       "    <tr style=\"text-align: right;\">\n",
       "      <th></th>\n",
       "      <th>Discount</th>\n",
       "      <th>Unit Price</th>\n",
       "      <th>Shipping Cost</th>\n",
       "      <th>Product Base Margin</th>\n",
       "      <th>Profit</th>\n",
       "      <th>Quantity ordered new</th>\n",
       "      <th>Sales</th>\n",
       "    </tr>\n",
       "  </thead>\n",
       "  <tbody>\n",
       "    <tr>\n",
       "      <th>count</th>\n",
       "      <td>1945.000000</td>\n",
       "      <td>1944.000000</td>\n",
       "      <td>1946.00000</td>\n",
       "      <td>1936.000000</td>\n",
       "      <td>1945.000000</td>\n",
       "      <td>1925.000000</td>\n",
       "      <td>1936.000000</td>\n",
       "    </tr>\n",
       "    <tr>\n",
       "      <th>mean</th>\n",
       "      <td>0.048992</td>\n",
       "      <td>109.114897</td>\n",
       "      <td>12.99093</td>\n",
       "      <td>0.515186</td>\n",
       "      <td>113.503320</td>\n",
       "      <td>12.944416</td>\n",
       "      <td>968.964592</td>\n",
       "    </tr>\n",
       "    <tr>\n",
       "      <th>std</th>\n",
       "      <td>0.031404</td>\n",
       "      <td>394.209477</td>\n",
       "      <td>17.43460</td>\n",
       "      <td>0.137055</td>\n",
       "      <td>1142.292351</td>\n",
       "      <td>13.933668</td>\n",
       "      <td>2491.166164</td>\n",
       "    </tr>\n",
       "    <tr>\n",
       "      <th>min</th>\n",
       "      <td>0.000000</td>\n",
       "      <td>1.140000</td>\n",
       "      <td>0.49000</td>\n",
       "      <td>0.350000</td>\n",
       "      <td>-16476.838000</td>\n",
       "      <td>1.000000</td>\n",
       "      <td>2.250000</td>\n",
       "    </tr>\n",
       "    <tr>\n",
       "      <th>25%</th>\n",
       "      <td>0.020000</td>\n",
       "      <td>6.480000</td>\n",
       "      <td>3.27000</td>\n",
       "      <td>0.380000</td>\n",
       "      <td>-85.022000</td>\n",
       "      <td>5.000000</td>\n",
       "      <td>58.770000</td>\n",
       "    </tr>\n",
       "    <tr>\n",
       "      <th>50%</th>\n",
       "      <td>0.050000</td>\n",
       "      <td>20.990000</td>\n",
       "      <td>6.15000</td>\n",
       "      <td>0.525000</td>\n",
       "      <td>1.336000</td>\n",
       "      <td>10.000000</td>\n",
       "      <td>202.335000</td>\n",
       "    </tr>\n",
       "    <tr>\n",
       "      <th>75%</th>\n",
       "      <td>0.080000</td>\n",
       "      <td>100.970000</td>\n",
       "      <td>14.36750</td>\n",
       "      <td>0.590000</td>\n",
       "      <td>115.728000</td>\n",
       "      <td>16.000000</td>\n",
       "      <td>798.740000</td>\n",
       "    </tr>\n",
       "    <tr>\n",
       "      <th>max</th>\n",
       "      <td>0.210000</td>\n",
       "      <td>6783.020000</td>\n",
       "      <td>164.73000</td>\n",
       "      <td>0.850000</td>\n",
       "      <td>9228.225600</td>\n",
       "      <td>167.000000</td>\n",
       "      <td>45737.330000</td>\n",
       "    </tr>\n",
       "  </tbody>\n",
       "</table>\n",
       "</div>"
      ],
      "text/plain": [
       "          Discount   Unit Price  Shipping Cost  Product Base Margin  \\\n",
       "count  1945.000000  1944.000000     1946.00000          1936.000000   \n",
       "mean      0.048992   109.114897       12.99093             0.515186   \n",
       "std       0.031404   394.209477       17.43460             0.137055   \n",
       "min       0.000000     1.140000        0.49000             0.350000   \n",
       "25%       0.020000     6.480000        3.27000             0.380000   \n",
       "50%       0.050000    20.990000        6.15000             0.525000   \n",
       "75%       0.080000   100.970000       14.36750             0.590000   \n",
       "max       0.210000  6783.020000      164.73000             0.850000   \n",
       "\n",
       "             Profit  Quantity ordered new         Sales  \n",
       "count   1945.000000           1925.000000   1936.000000  \n",
       "mean     113.503320             12.944416    968.964592  \n",
       "std     1142.292351             13.933668   2491.166164  \n",
       "min   -16476.838000              1.000000      2.250000  \n",
       "25%      -85.022000              5.000000     58.770000  \n",
       "50%        1.336000             10.000000    202.335000  \n",
       "75%      115.728000             16.000000    798.740000  \n",
       "max     9228.225600            167.000000  45737.330000  "
      ]
     },
     "execution_count": 5,
     "metadata": {},
     "output_type": "execute_result"
    }
   ],
   "source": [
    "# describe dataframe \n",
    "df.describe()"
   ]
  },
  {
   "cell_type": "markdown",
   "metadata": {},
   "source": [
    "# Deal with nans"
   ]
  },
  {
   "cell_type": "code",
   "execution_count": 6,
   "metadata": {},
   "outputs": [
    {
     "name": "stdout",
     "output_type": "stream",
     "text": [
      "Total samples:  1842\n",
      "  Order Priority Discount Unit Price Shipping Cost       Ship Mode  \\\n",
      "0           High     0.01       2.84          0.93     Express Air   \n",
      "1  Not Specified     0.02     500.98            26  Delivery Truck   \n",
      "2       Critical     0.06       9.48          7.29     Regular Air   \n",
      "3         Medium     0.09      78.69         19.99     Regular Air   \n",
      "\n",
      "  Customer Segment  \n",
      "0        Corporate  \n",
      "1      Home Office  \n",
      "2      Home Office  \n",
      "3   Small Business  \n"
     ]
    }
   ],
   "source": [
    "numeric = ['Discount', 'Unit Price', 'Shipping Cost', 'Product Base Margin', 'Quantity ordered new', 'Sales']\n",
    "# drop the NaN\n",
    "df = mm.nandrop(df)\n",
    "df_num = df[numeric]\n",
    "# print total samples\n",
    "print('Total samples: ', df.shape[0])\n",
    "# print 4-rows and 6-columns\n",
    "print(df.iloc[:4, :6])"
   ]
  },
  {
   "cell_type": "code",
   "execution_count": 7,
   "metadata": {},
   "outputs": [],
   "source": [
    "# Get targets\n",
    "targets = df['Profit']"
   ]
  },
  {
   "cell_type": "code",
   "execution_count": 8,
   "metadata": {
    "scrolled": true
   },
   "outputs": [
    {
     "name": "stdout",
     "output_type": "stream",
     "text": [
      "  Discount Unit Price Shipping Cost Product Base Margin Quantity ordered new  \\\n",
      "0     0.01       2.84          0.93                0.54                    4   \n",
      "1     0.02     500.98            26                 0.6                   12   \n",
      "2     0.06       9.48          7.29                0.45                   22   \n",
      "3     0.09      78.69         19.99                0.43                   16   \n",
      "\n",
      "     Sales  \n",
      "0    13.01  \n",
      "1  6362.85  \n",
      "2   211.15  \n",
      "3  1164.45  \n"
     ]
    }
   ],
   "source": [
    "# list of categorical features\n",
    "categorical_ = ['Ship Mode', 'Customer Segment', 'Product Category', 'Product Sub-Category', 'Product Container',\n",
    "        'Country', 'Region', 'State or Province', 'City', 'Order Priority']\n",
    "\n",
    "# drop the \"categorical\" features\n",
    "# drop the profit column\n",
    "df= df.drop(labels=['Profit'], axis=1)\n",
    "# drop using 'inplace' which is equivalent to df = df.drop()\n",
    "data_dropped = df.drop(labels=categorical_, axis=1, inplace=False)\n",
    "# print partial data\n",
    "print(data_dropped.iloc[:4,:6])"
   ]
  },
  {
   "cell_type": "code",
   "execution_count": 9,
   "metadata": {},
   "outputs": [
    {
     "data": {
      "text/plain": [
       "0.4196702907157779"
      ]
     },
     "execution_count": 9,
     "metadata": {},
     "output_type": "execute_result"
    }
   ],
   "source": [
    "# Split data to train/test sets\n",
    "X_train, X_test, y_train, y_test = train_test_split(df_num, targets, test_size=0.2, random_state=0)\n",
    "# Create classifier\n",
    "lr = LinearRegression()\n",
    "# Fit classifier\n",
    "lr = lr.fit(X_train, y_train)\n",
    "# Predict on test data\n",
    "y_pred = lr.predict(X_test)\n",
    "# Get accuracy score\n",
    "lr.score(X_test, y_test)"
   ]
  },
  {
   "cell_type": "markdown",
   "metadata": {},
   "source": [
    "# Substituting nans with mean"
   ]
  },
  {
   "cell_type": "code",
   "execution_count": 10,
   "metadata": {},
   "outputs": [],
   "source": [
    "df = pd.read_excel(\"https://github.com/lifegivesyoulemons/udata/blob/master/SuperStoreUS_2015.xlsx?raw=true\", sheet_name = 'Orders', header=0)\n",
    "df = df.drop(columns=['Row ID', 'Postal Code', 'Order Date', 'Ship Date', 'Order ID', 'Product Name', 'Customer ID', 'Customer Name'])"
   ]
  },
  {
   "cell_type": "code",
   "execution_count": 11,
   "metadata": {},
   "outputs": [],
   "source": [
    "# turning nans to mean\n",
    "df_num = df[numeric]\n",
    "df_num = mm.nantomean(df, numeric)"
   ]
  },
  {
   "cell_type": "code",
   "execution_count": 12,
   "metadata": {},
   "outputs": [
    {
     "name": "stdout",
     "output_type": "stream",
     "text": [
      "   Discount  Unit Price  Shipping Cost  Product Base Margin  \\\n",
      "0      0.01        2.84           0.93                 0.54   \n",
      "1      0.02      500.98          26.00                 0.60   \n",
      "2      0.06        9.48           7.29                 0.45   \n",
      "3      0.09       78.69          19.99                 0.43   \n",
      "\n",
      "   Quantity ordered new    Sales  \n",
      "0                   4.0    13.01  \n",
      "1                  12.0  6362.85  \n",
      "2                  22.0   211.15  \n",
      "3                  16.0  1164.45  \n"
     ]
    }
   ],
   "source": [
    "targets = df['Profit']\n",
    "targets = mm.nantomean(pd.DataFrame(targets, columns = ['Profit']), ['Profit'])\n",
    "categorical_ = ['Ship Mode', 'Customer Segment', 'Product Category', 'Product Sub-Category', 'Product Container',\n",
    "        'Country', 'Region', 'State or Province', 'City', 'Order Priority']\n",
    "df= df.drop(labels=['Profit'], axis=1)\n",
    "data_dropped = df.drop(labels=categorical_, axis=1, inplace=False)\n",
    "print(data_dropped.iloc[:4,:6])"
   ]
  },
  {
   "cell_type": "code",
   "execution_count": 13,
   "metadata": {},
   "outputs": [
    {
     "data": {
      "text/plain": [
       "0.23691089548565478"
      ]
     },
     "execution_count": 13,
     "metadata": {},
     "output_type": "execute_result"
    }
   ],
   "source": [
    "# Split data to train/test sets\n",
    "X_train, X_test, y_train, y_test = train_test_split(df_num, targets, test_size=0.2, random_state=0)\n",
    "# Create classifier\n",
    "lr = LinearRegression()\n",
    "# Fit classifier\n",
    "lr = lr.fit(X_train, y_train)\n",
    "# Predict on test data\n",
    "y_pred = lr.predict(X_test)\n",
    "# Get accuracy score\n",
    "lr.score(X_test, y_test)"
   ]
  },
  {
   "cell_type": "markdown",
   "metadata": {},
   "source": [
    "### Accuracy is better if we drop nans than if we substitute them to column means"
   ]
  },
  {
   "cell_type": "markdown",
   "metadata": {},
   "source": [
    "## Standardizer and Scaler in work"
   ]
  },
  {
   "cell_type": "code",
   "execution_count": 21,
   "metadata": {},
   "outputs": [
    {
     "data": {
      "text/plain": [
       "Discount                0.039347\n",
       "Unit Price              0.428381\n",
       "Shipping Cost           0.778840\n",
       "Product Base Margin     0.325682\n",
       "Quantity ordered new    0.900875\n",
       "Sales                   0.602533\n",
       "dtype: float64"
      ]
     },
     "execution_count": 21,
     "metadata": {},
     "output_type": "execute_result"
    }
   ],
   "source": [
    "np.mean(mm.standardize(df, numeric))"
   ]
  },
  {
   "cell_type": "code",
   "execution_count": 23,
   "metadata": {},
   "outputs": [
    {
     "data": {
      "text/plain": [
       "Discount                0.043824\n",
       "Unit Price              5.157042\n",
       "Shipping Cost           4.009852\n",
       "Product Base Margin     0.177497\n",
       "Quantity ordered new    3.600250\n",
       "Sales                   6.488053\n",
       "dtype: float64"
      ]
     },
     "execution_count": 23,
     "metadata": {},
     "output_type": "execute_result"
    }
   ],
   "source": [
    "np.var(mm.standardize(df, numeric))"
   ]
  },
  {
   "cell_type": "code",
   "execution_count": 25,
   "metadata": {},
   "outputs": [
    {
     "data": {
      "text/plain": [
       "[Discount                0.000000\n",
       " Unit Price              0.000168\n",
       " Shipping Cost           0.002679\n",
       " Product Base Margin     0.200000\n",
       " Quantity ordered new    0.005880\n",
       " Sales                   0.000049\n",
       " dtype: float64, Discount                0.535500\n",
       " Unit Price              1.000000\n",
       " Shipping Cost           1.000000\n",
       " Product Base Margin     0.919363\n",
       " Quantity ordered new    1.000000\n",
       " Sales                   1.000000\n",
       " dtype: float64]"
      ]
     },
     "execution_count": 25,
     "metadata": {},
     "output_type": "execute_result"
    }
   ],
   "source": [
    "[np.min(mm.scale(df, numeric)), np.max(mm.scale(df, numeric))]"
   ]
  }
 ],
 "metadata": {
  "kernelspec": {
   "display_name": "Python 3",
   "language": "python",
   "name": "python3"
  },
  "language_info": {
   "codemirror_mode": {
    "name": "ipython",
    "version": 3
   },
   "file_extension": ".py",
   "mimetype": "text/x-python",
   "name": "python",
   "nbconvert_exporter": "python",
   "pygments_lexer": "ipython3",
   "version": "3.6.5"
  }
 },
 "nbformat": 4,
 "nbformat_minor": 2
}
